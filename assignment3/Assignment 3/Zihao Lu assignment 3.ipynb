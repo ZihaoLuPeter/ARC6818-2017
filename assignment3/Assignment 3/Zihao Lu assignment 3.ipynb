{
 "cells": [
  {
   "cell_type": "code",
   "execution_count": 1,
   "metadata": {
    "collapsed": true
   },
   "outputs": [],
   "source": [
    "## the clock will show you how time go because it will show you how seconds become minutes and how minutes become hours"
   ]
  },
  {
   "cell_type": "code",
   "execution_count": 2,
   "metadata": {
    "collapsed": true
   },
   "outputs": [],
   "source": [
    "import datetime"
   ]
  },
  {
   "cell_type": "code",
   "execution_count": 3,
   "metadata": {
    "collapsed": true
   },
   "outputs": [],
   "source": [
    "import turtle"
   ]
  },
  {
   "cell_type": "code",
   "execution_count": 4,
   "metadata": {
    "collapsed": true
   },
   "outputs": [],
   "source": [
    "import math"
   ]
  },
  {
   "cell_type": "code",
   "execution_count": 5,
   "metadata": {},
   "outputs": [],
   "source": [
    "currentTime=datetime.datetime.now().time()"
   ]
  },
  {
   "cell_type": "code",
   "execution_count": 6,
   "metadata": {
    "collapsed": true
   },
   "outputs": [],
   "source": [
    "## create three turtles for second,minute and hour\n",
    "## using different color and pensize \n",
    "## putting them in the right place\n",
    "sec = turtle.Turtle()\n",
    "sec.speed(\"fastest\")\n",
    "sec.ht()\n",
    "sec.penup()\n",
    "sec.goto(-270,0)\n",
    "sec.pendown()\n",
    "sec.pensize(0.5)\n",
    "sec.right(90)\n",
    "sec.color('lightgray')\n",
    "\n",
    "mins = turtle.Turtle()\n",
    "mins.speed(\"fastest\")\n",
    "mins.ht()\n",
    "mins.penup()\n",
    "mins.goto(-90,0)\n",
    "mins.pendown()\n",
    "mins.pensize(0.7)\n",
    "mins.right(90)\n",
    "mins.color('gray')\n",
    "\n",
    "hour = turtle.Turtle()\n",
    "hour.speed(\"fastest\")\n",
    "hour.ht()\n",
    "hour.penup()\n",
    "hour.goto(90,0)\n",
    "hour.pendown()\n",
    "hour.pensize(1)\n",
    "hour.right(90)\n",
    "hour.color('black')"
   ]
  },
  {
   "cell_type": "code",
   "execution_count": 7,
   "metadata": {},
   "outputs": [],
   "source": [
    "## create three functions to organize the time\n",
    "## time can be shown by line\n",
    "## minute line will go to the minute \n",
    "## minute line will go to the hour\n",
    "## that shows how time flow\n",
    "def secmove(sec):\n",
    "    sec.fd(180)\n",
    "    sec.penup()\n",
    "    sec.goto(-270+currentTime.second*3,0)\n",
    "    sec.pendown()\n",
    "    \n",
    "def minsmove(mins):\n",
    "    mins.fd(180)\n",
    "    mins.penup()\n",
    "    mins.goto(-90+currentTime.minute*3,0)\n",
    "    mins.pendown()\n",
    "    \n",
    "    \n",
    "def hourmove(hour):\n",
    "    hour.fd(180)\n",
    "    hour.penup()\n",
    "    hour.goto(90+currentTime.hour*7.5,0)\n",
    "    hour.pendown()"
   ]
  },
  {
   "cell_type": "code",
   "execution_count": 8,
   "metadata": {
    "collapsed": true
   },
   "outputs": [],
   "source": [
    "## create current time named presecond.preminute and prehour to draw current time\n",
    "preSecond=currentTime.second\n",
    "preMinute=currentTime.minute\n",
    "preHour=currentTime.hour"
   ]
  },
  {
   "cell_type": "code",
   "execution_count": null,
   "metadata": {},
   "outputs": [],
   "source": [
    "## firstly, we should draw the current time which means it is a resting and specific time\n",
    "j=-270\n",
    "for i in range(preSecond+7):\n",
    "    sec.fd(180)\n",
    "    sec.penup()\n",
    "    sec.goto(j,0)\n",
    "    sec.pendown()\n",
    "    j=j+3\n",
    "    \n",
    "    \n",
    "k=-90\n",
    "for i in range(preMinute+1):\n",
    "    mins.fd(180)\n",
    "    mins.penup()\n",
    "    mins.goto(k,0)\n",
    "    mins.pendown()\n",
    "    k=k+3\n",
    "    \n",
    "    \n",
    "h=90\n",
    "for i in range(preHour+1):\n",
    "    hour.fd(180)\n",
    "    hour.penup()\n",
    "    hour.goto(h,0)\n",
    "    hour.pendown()\n",
    "    h=h+7.5"
   ]
  },
  {
   "cell_type": "code",
   "execution_count": null,
   "metadata": {},
   "outputs": [],
   "source": [
    "## then, we can show the time with the three function above, making time go \n",
    "while True:\n",
    "    currentTime=datetime.datetime.now().time()\n",
    "    currentSecond=currentTime.second\n",
    "    currentMinute=currentTime.minute\n",
    "    currentHour=currentTime.hour\n",
    "\n",
    "    if (currentSecond != preSecond):\n",
    "        secmove(sec)\n",
    "    \n",
    "    if (currentMinute != preMinute):\n",
    "        minsmove(mins)\n",
    "    \n",
    "    if (currentHour != preHour):\n",
    "        hourmove(hour)\n",
    "    \n",
    "    preSecond=currentTime.second\n",
    "    preMinute=currentTime.minute\n",
    "    preHour=currentTime.hour\n",
    "    \n",
    "    \n",
    "## also, we need to clear the time when a new turn comes\n",
    "    if preSecond == 0:\n",
    "        sec.clear()\n",
    "\n",
    "    if preMinute == 0:\n",
    "        mins.clear()\n",
    "        \n",
    "    if preHour == 0:\n",
    "        hour.clear()\n",
    "        \n",
    "    preSecond=currentTime.second\n",
    "    preMinute=currentTime.minute\n",
    "    preHour=currentTime.hour\n",
    "    \n",
    "\n",
    "## finish"
   ]
  }
 ],
 "metadata": {
  "kernelspec": {
   "display_name": "Python 3",
   "language": "python",
   "name": "python3"
  },
  "language_info": {
   "codemirror_mode": {
    "name": "ipython",
    "version": 3
   },
   "file_extension": ".py",
   "mimetype": "text/x-python",
   "name": "python",
   "nbconvert_exporter": "python",
   "pygments_lexer": "ipython3",
   "version": "3.6.2"
  }
 },
 "nbformat": 4,
 "nbformat_minor": 2
}
